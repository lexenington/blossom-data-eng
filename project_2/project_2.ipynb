{
 "cells": [
  {
   "cell_type": "code",
   "execution_count": 1,
   "metadata": {},
   "outputs": [],
   "source": [
    "import boto3\n",
    "import pandas as pd\n",
    "\n",
    "region = \"eu-west-1\"\n",
    "s3_client = boto3.client('s3', region_name=region)\n",
    "\n",
    "# download file to local filesystem\n",
    "s3_client.download_file('blossom-data-engs', \"free-7-million-company-dataset.zip\", 'free-7-million-company-dataset.zip' )\n"
   ]
  },
  {
   "cell_type": "code",
   "execution_count": 3,
   "metadata": {},
   "outputs": [],
   "source": []
  },
  {
   "cell_type": "code",
   "execution_count": 2,
   "metadata": {},
   "outputs": [
    {
     "name": "stdout",
     "output_type": "stream",
     "text": [
      "        Unnamed: 0                          name             domain  \\\n",
      "0          5872184                           ibm            ibm.com   \n",
      "1          4425416     tata consultancy services            tcs.com   \n",
      "2            21074                     accenture      accenture.com   \n",
      "3          2309813                       us army         goarmy.com   \n",
      "4          1558607                            ey             ey.com   \n",
      "...            ...                           ...                ...   \n",
      "204844     4165370  caron transportation systems  carontransport.ca   \n",
      "204845     4859186                  ramada hotel  canaltahotels.com   \n",
      "204846     5831392       phelan construction ltd      phelans.co.uk   \n",
      "204847     4029001                        cebbco         cebbco.com   \n",
      "204848     4603252    laboratorio médico polanco      lmpolanco.com   \n",
      "\n",
      "       year founded                             industry size range  \\\n",
      "0              1911  information technology and services     10001+   \n",
      "1              1968  information technology and services     10001+   \n",
      "2              1989  information technology and services     10001+   \n",
      "3              1800                             military     10001+   \n",
      "4              1989                           accounting     10001+   \n",
      "...             ...                                  ...        ...   \n",
      "204844         1947     transportation/trucking/railroad   51 - 200   \n",
      "204845          NaN                     food & beverages   51 - 200   \n",
      "204846         1987                         construction   51 - 200   \n",
      "204847          NaN                            machinery   51 - 200   \n",
      "204848         1977         health, wellness and fitness   51 - 200   \n",
      "\n",
      "                                      locality         country  \\\n",
      "0            new york, new york, united states   united states   \n",
      "1                   bombay, maharashtra, india           india   \n",
      "2                      dublin, dublin, ireland         ireland   \n",
      "3          alexandria, virginia, united states   united states   \n",
      "4       london, greater london, united kingdom  united kingdom   \n",
      "...                                        ...             ...   \n",
      "204844          sherwood park, alberta, canada          canada   \n",
      "204845           lac la biche, alberta, canada          canada   \n",
      "204846   clacton-on-sea, essex, united kingdom  united kingdom   \n",
      "204847         jabalpur, madhya pradesh, india           india   \n",
      "204848                                     NaN             NaN   \n",
      "\n",
      "                                             linkedin url  \\\n",
      "0                                linkedin.com/company/ibm   \n",
      "1          linkedin.com/company/tata-consultancy-services   \n",
      "2                          linkedin.com/company/accenture   \n",
      "3                            linkedin.com/company/us-army   \n",
      "4                      linkedin.com/company/ernstandyoung   \n",
      "...                                                   ...   \n",
      "204844  linkedin.com/company/caron-transportation-systems   \n",
      "204845                  linkedin.com/company/ramada-hotel   \n",
      "204846       linkedin.com/company/phelan-construction-ltd   \n",
      "204847                        linkedin.com/company/cebbco   \n",
      "204848    linkedin.com/company/laboratorio-m-dico-polanco   \n",
      "\n",
      "       current employee estimate  total employee estimate  Unnamed: 11  \n",
      "0                         274047                   716906          NaN  \n",
      "1                         190771                   341369          NaN  \n",
      "2                         190689                   455768          NaN  \n",
      "3                         162163                   445958          NaN  \n",
      "4                         158363                   428960          NaN  \n",
      "...                          ...                      ...          ...  \n",
      "204844                        51                       99          NaN  \n",
      "204845                        51                      230          NaN  \n",
      "204846                        51                       82          NaN  \n",
      "204847                        51                       87          NaN  \n",
      "204848                        51                      167          NaN  \n",
      "\n",
      "[204849 rows x 12 columns]\n"
     ]
    },
    {
     "name": "stderr",
     "output_type": "stream",
     "text": [
      "/home/lex/blossom/project_2/env/lib/python3.6/site-packages/IPython/core/interactiveshell.py:3058: DtypeWarning: Columns (3,9) have mixed types. Specify dtype option on import or set low_memory=False.\n",
      "  interactivity=interactivity, compiler=compiler, result=result)\n"
     ]
    }
   ],
   "source": [
    "df = pd.read_csv('free-7-million-company-dataset-local.zip', compression='zip')\n",
    "\n",
    "print(df)"
   ]
  },
  {
   "cell_type": "code",
   "execution_count": 4,
   "metadata": {},
   "outputs": [
    {
     "data": {
      "text/plain": [
       "(204849, 12)"
      ]
     },
     "execution_count": 4,
     "metadata": {},
     "output_type": "execute_result"
    }
   ],
   "source": [
    "df.shape"
   ]
  },
  {
   "cell_type": "code",
   "execution_count": 10,
   "metadata": {},
   "outputs": [],
   "source": [
    "df = df.dropna()"
   ]
  },
  {
   "cell_type": "code",
   "execution_count": 12,
   "metadata": {},
   "outputs": [
    {
     "data": {
      "text/html": [
       "<div>\n",
       "<style scoped>\n",
       "    .dataframe tbody tr th:only-of-type {\n",
       "        vertical-align: middle;\n",
       "    }\n",
       "\n",
       "    .dataframe tbody tr th {\n",
       "        vertical-align: top;\n",
       "    }\n",
       "\n",
       "    .dataframe thead th {\n",
       "        text-align: right;\n",
       "    }\n",
       "</style>\n",
       "<table border=\"1\" class=\"dataframe\">\n",
       "  <thead>\n",
       "    <tr style=\"text-align: right;\">\n",
       "      <th></th>\n",
       "      <th>Unnamed: 0</th>\n",
       "      <th>name</th>\n",
       "      <th>domain</th>\n",
       "      <th>year founded</th>\n",
       "      <th>industry</th>\n",
       "      <th>size range</th>\n",
       "      <th>locality</th>\n",
       "      <th>country</th>\n",
       "      <th>linkedin url</th>\n",
       "      <th>current employee estimate</th>\n",
       "      <th>total employee estimate</th>\n",
       "      <th>Unnamed: 11</th>\n",
       "    </tr>\n",
       "  </thead>\n",
       "  <tbody>\n",
       "    <tr>\n",
       "      <td>33937</td>\n",
       "      <td>1128772</td>\n",
       "      <td>sefcu</td>\n",
       "      <td>www</td>\n",
       "      <td>sefcu.com</td>\n",
       "      <td>1934</td>\n",
       "      <td>banking</td>\n",
       "      <td>501 - 1000</td>\n",
       "      <td>albany, new york, united states</td>\n",
       "      <td>united states</td>\n",
       "      <td>linkedin.com/company/sefcu</td>\n",
       "      <td>344</td>\n",
       "      <td>666.0</td>\n",
       "    </tr>\n",
       "    <tr>\n",
       "      <td>60470</td>\n",
       "      <td>2575117</td>\n",
       "      <td>icarda</td>\n",
       "      <td>international center for agricultural researc...</td>\n",
       "      <td>icarda.org</td>\n",
       "      <td>1977</td>\n",
       "      <td>non-profit organization management</td>\n",
       "      <td>501 - 1000</td>\n",
       "      <td>bayrut, beyrouth, lebanon</td>\n",
       "      <td>lebanon</td>\n",
       "      <td>linkedin.com/company/icarda</td>\n",
       "      <td>189</td>\n",
       "      <td>527.0</td>\n",
       "    </tr>\n",
       "    <tr>\n",
       "      <td>67461</td>\n",
       "      <td>3951975</td>\n",
       "      <td>associated consulting engineers</td>\n",
       "      <td>ace</td>\n",
       "      <td>ace-intl.net</td>\n",
       "      <td>1956</td>\n",
       "      <td>construction</td>\n",
       "      <td>501 - 1000</td>\n",
       "      <td>karachi, sindh, pakistan</td>\n",
       "      <td>pakistan</td>\n",
       "      <td>linkedin.com/company/associated-consulting-eng...</td>\n",
       "      <td>169</td>\n",
       "      <td>467.0</td>\n",
       "    </tr>\n",
       "    <tr>\n",
       "      <td>158564</td>\n",
       "      <td>630876</td>\n",
       "      <td>atlanta area council</td>\n",
       "      <td>boy scouts of america</td>\n",
       "      <td>atlantabsa.org</td>\n",
       "      <td>1916</td>\n",
       "      <td>non-profit organization management</td>\n",
       "      <td>51 - 200</td>\n",
       "      <td>atlanta, georgia, united states</td>\n",
       "      <td>united states</td>\n",
       "      <td>linkedin.com/company/atlanta-area-council-boy-...</td>\n",
       "      <td>67</td>\n",
       "      <td>232.0</td>\n",
       "    </tr>\n",
       "    <tr>\n",
       "      <td>160423</td>\n",
       "      <td>1232013</td>\n",
       "      <td>h3</td>\n",
       "      <td>slow</td>\n",
       "      <td>h3.com</td>\n",
       "      <td>2007</td>\n",
       "      <td>food &amp; beverages</td>\n",
       "      <td>201 - 500</td>\n",
       "      <td>portugal, portalegre, portugal</td>\n",
       "      <td>portugal</td>\n",
       "      <td>linkedin.com/company/h3</td>\n",
       "      <td>67</td>\n",
       "      <td>169.0</td>\n",
       "    </tr>\n",
       "    <tr>\n",
       "      <td>172412</td>\n",
       "      <td>1973399</td>\n",
       "      <td>bayanat for mapping &amp; surveying services llc</td>\n",
       "      <td>a mubadala company</td>\n",
       "      <td>bayanat.co.ae</td>\n",
       "      <td>2008</td>\n",
       "      <td>defense &amp; space</td>\n",
       "      <td>51 - 200</td>\n",
       "      <td>abu dhabi, abu dhabi, united arab emirates</td>\n",
       "      <td>united arab emirates</td>\n",
       "      <td>linkedin.com/company/bayanat-for-mapping-&amp;-sur...</td>\n",
       "      <td>61</td>\n",
       "      <td>108.0</td>\n",
       "    </tr>\n",
       "  </tbody>\n",
       "</table>\n",
       "</div>"
      ],
      "text/plain": [
       "        Unnamed: 0                                          name  \\\n",
       "33937      1128772                                         sefcu   \n",
       "60470      2575117                                        icarda   \n",
       "67461      3951975              associated consulting engineers    \n",
       "158564      630876                          atlanta area council   \n",
       "160423     1232013                                           h3    \n",
       "172412     1973399  bayanat for mapping & surveying services llc   \n",
       "\n",
       "                                                   domain    year founded  \\\n",
       "33937                                                 www       sefcu.com   \n",
       "60470    international center for agricultural researc...      icarda.org   \n",
       "67461                                                 ace    ace-intl.net   \n",
       "158564                              boy scouts of america  atlantabsa.org   \n",
       "160423                                               slow          h3.com   \n",
       "172412                                 a mubadala company   bayanat.co.ae   \n",
       "\n",
       "       industry                          size range    locality  \\\n",
       "33937      1934                             banking  501 - 1000   \n",
       "60470      1977  non-profit organization management  501 - 1000   \n",
       "67461      1956                        construction  501 - 1000   \n",
       "158564     1916  non-profit organization management    51 - 200   \n",
       "160423     2007                    food & beverages   201 - 500   \n",
       "172412     2008                     defense & space    51 - 200   \n",
       "\n",
       "                                           country          linkedin url  \\\n",
       "33937              albany, new york, united states         united states   \n",
       "60470                    bayrut, beyrouth, lebanon               lebanon   \n",
       "67461                     karachi, sindh, pakistan              pakistan   \n",
       "158564             atlanta, georgia, united states         united states   \n",
       "160423              portugal, portalegre, portugal              portugal   \n",
       "172412  abu dhabi, abu dhabi, united arab emirates  united arab emirates   \n",
       "\n",
       "                                current employee estimate  \\\n",
       "33937                          linkedin.com/company/sefcu   \n",
       "60470                         linkedin.com/company/icarda   \n",
       "67461   linkedin.com/company/associated-consulting-eng...   \n",
       "158564  linkedin.com/company/atlanta-area-council-boy-...   \n",
       "160423                            linkedin.com/company/h3   \n",
       "172412  linkedin.com/company/bayanat-for-mapping-&-sur...   \n",
       "\n",
       "        total employee estimate  Unnamed: 11  \n",
       "33937                       344        666.0  \n",
       "60470                       189        527.0  \n",
       "67461                       169        467.0  \n",
       "158564                       67        232.0  \n",
       "160423                       67        169.0  \n",
       "172412                       61        108.0  "
      ]
     },
     "execution_count": 12,
     "metadata": {},
     "output_type": "execute_result"
    }
   ],
   "source": [
    "df"
   ]
  },
  {
   "cell_type": "code",
   "execution_count": 13,
   "metadata": {},
   "outputs": [],
   "source": []
  },
  {
   "cell_type": "code",
   "execution_count": 14,
   "metadata": {},
   "outputs": [],
   "source": [
    "df.to_parquet('csv_parquet_format.parquet')"
   ]
  },
  {
   "cell_type": "code",
   "execution_count": 16,
   "metadata": {},
   "outputs": [],
   "source": [
    "df.to_json('csv_json_format.json.gzip', compression='gzip')"
   ]
  },
  {
   "cell_type": "code",
   "execution_count": 17,
   "metadata": {},
   "outputs": [],
   "source": [
    "# define bucket, note json response\n",
    "bucket = \"blossom-data-eng-alexander\""
   ]
  },
  {
   "cell_type": "code",
   "execution_count": 18,
   "metadata": {},
   "outputs": [],
   "source": [
    "# Uplaod data\n",
    "s3_client.upload_file(\"project_2.ipynb\", bucket, \"project_2.ipynb\")\n"
   ]
  },
  {
   "cell_type": "code",
   "execution_count": 19,
   "metadata": {},
   "outputs": [],
   "source": [
    "s3_client.upload_file(\"csv_json_format.json.gzip\", bucket, \"csv_json_format.json.gzip\")\n",
    "s3_client.upload_file(\"csv_parquet_format.parquet\", bucket, \"csv_parquet_format.parquet\")"
   ]
  },
  {
   "cell_type": "code",
   "execution_count": null,
   "metadata": {},
   "outputs": [],
   "source": []
  }
 ],
 "metadata": {
  "kernelspec": {
   "display_name": "Python 3",
   "language": "python",
   "name": "python3"
  },
  "language_info": {
   "codemirror_mode": {
    "name": "ipython",
    "version": 3
   },
   "file_extension": ".py",
   "mimetype": "text/x-python",
   "name": "python",
   "nbconvert_exporter": "python",
   "pygments_lexer": "ipython3",
   "version": "3.6.9"
  }
 },
 "nbformat": 4,
 "nbformat_minor": 4
}
